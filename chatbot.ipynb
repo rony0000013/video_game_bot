{
 "cells": [
  {
   "cell_type": "code",
   "execution_count": 6,
   "metadata": {},
   "outputs": [],
   "source": [
    "import getpass\n",
    "import os\n",
    "\n",
    "\n",
    "def _set_env(var: str):\n",
    "    if not os.environ.get(var):\n",
    "        os.environ[var] = getpass.getpass(f\"{var}: \")\n",
    "\n",
    "\n",
    "_set_env(\"GOOGLE_API_KEY\")\n",
    "_set_env(\"GROQ_API_KEY\")\n",
    "_set_env(\"TAVILY_API_KEY\")\n",
    "# _set_env(\"LANGSMITH_API_KEY\")\n",
    "# os.environ[\"LANGCHAIN_TRACING_V2\"] = \"true\"\n",
    "# os.environ[\"LANGCHAIN_PROJECT\"] = \"LangGraph Tutorial\""
   ]
  },
  {
   "cell_type": "code",
   "execution_count": 7,
   "metadata": {},
   "outputs": [],
   "source": [
    "from langchain_core.pydantic_v1 import BaseModel, Field\n",
    "\n",
    "\n",
    "class IsVideoGame(BaseModel):\n",
    "    '''Is the provided query directly related to video games, video game culture, \\\n",
    "or any specific aspect of video gaming, including but not limited to game titles, genres, \\\n",
    "platforms, gaming technology, game development, or the gaming community? Answer in boolean value only True or False. '''\n",
    "    val: bool\n",
    "    # , description=\"Answer in boolean value only 'True' or 'False'.\")"
   ]
  },
  {
   "cell_type": "code",
   "execution_count": 8,
   "metadata": {},
   "outputs": [],
   "source": [
    "from langchain_community.tools.tavily_search.tool import TavilySearchResults\n",
    "\n",
    "search_tool = TavilySearchResults(\n",
    "    max_results=3,\n",
    "    description= \"A search engine optimized for comprehensive, accurate, and trusted results. \\\n",
    "Useful for when you need to answer questions about current events. Use this tool when asked regarding latest or\\\n",
    "Specific information about video games related topic which you don't know. \\\n",
    "Input should be a search query.\",\n",
    "    # search_depth=\"advanced\",\n",
    "    # include_answer=True,\n",
    "    # include_raw_content=True,\n",
    "    # include_images=True,\n",
    ")"
   ]
  },
  {
   "cell_type": "code",
   "execution_count": 9,
   "metadata": {},
   "outputs": [],
   "source": [
    "from typing import Annotated, Literal\n",
    "import json\n",
    "from typing_extensions import TypedDict\n",
    "\n",
    "from langgraph.graph import StateGraph, START, END\n",
    "from langgraph.graph.message import add_messages\n",
    "from langchain_core.messages import AIMessage, ToolMessage, HumanMessage\n",
    "\n",
    "from langchain_google_genai import ChatGoogleGenerativeAI\n",
    "from langchain_groq import ChatGroq\n",
    "\n",
    "llm = ChatGoogleGenerativeAI(model=\"gemini-1.5-flash\")\n",
    "# llm = ChatGroq()\n",
    "llm = llm.bind_tools([search_tool])\n",
    "\n",
    "model = ChatGroq(model=\"llama3-groq-8b-8192-tool-use-preview\")\n",
    "structured_llm = model.with_structured_output(IsVideoGame)\n",
    "\n",
    "\n",
    "class State(TypedDict):\n",
    "    \n",
    "    is_video_game: bool\n",
    "    messages: Annotated[list, add_messages]\n",
    "\n",
    "\n",
    "graph_builder = StateGraph(State)"
   ]
  },
  {
   "cell_type": "code",
   "execution_count": 10,
   "metadata": {},
   "outputs": [],
   "source": [
    "class BasicToolNode:\n",
    "    \"\"\"A node that runs the tools requested in the last AIMessage.\"\"\"\n",
    "\n",
    "    def __init__(self, tools: list) -> None:\n",
    "        self.tools_by_name = {tool.name: tool for tool in tools}\n",
    "\n",
    "    def __call__(self, inputs: State) -> State:\n",
    "        message = inputs[\"messages\"][-1]\n",
    "        outputs = []\n",
    "        for tool_call in message.tool_calls:\n",
    "\n",
    "            print(\"--TOOL CALLED:\", tool_call[\"name\"], \"--\")\n",
    "            \n",
    "            tool_result = self.tools_by_name[tool_call[\"name\"]].invoke(\n",
    "                tool_call[\"args\"]\n",
    "            )\n",
    "            outputs.append(\n",
    "                ToolMessage(\n",
    "                    content=json.dumps(tool_result),\n",
    "                    name=tool_call[\"name\"],\n",
    "                    tool_call_id=tool_call[\"id\"],\n",
    "                )\n",
    "            )\n",
    "        return {\"messages\": outputs}\n",
    "\n",
    "\n",
    "tool_node = BasicToolNode(tools=[search_tool])\n",
    "graph_builder.add_node(\"search\", tool_node)"
   ]
  },
  {
   "cell_type": "code",
   "execution_count": 11,
   "metadata": {},
   "outputs": [],
   "source": [
    "def is_topic_related_to_video_games(state: State) -> State:\n",
    "    user_query = state[\"messages\"][-1].content\n",
    "\n",
    "    print(\"--TOPIC ANALYSIS--\")\n",
    "    \n",
    "    ans = structured_llm.invoke(user_query)\n",
    "\n",
    "    # if ans.parsing_error:\n",
    "    #     state[\"is_video_game\"] = ans['raw']['additional_kwargs']['tool_calls'][0]['function']['arguments']['val'].lower() == 'true'\n",
    "    # else :\n",
    "    #     state[\"is_video_game\"] = ans['parsed'].val\n",
    "    state[\"is_video_game\"] = ans.val\n",
    "    return state\n",
    "    \n",
    "graph_builder.add_node(\"topic_analysis\", is_topic_related_to_video_games)"
   ]
  },
  {
   "cell_type": "code",
   "execution_count": 12,
   "metadata": {},
   "outputs": [],
   "source": [
    "def chatbot(state: State) -> State:\n",
    "    return {\"messages\": [llm.invoke(state[\"messages\"])]}\n",
    "\n",
    "\n",
    "graph_builder.add_node(\"chatbot\", chatbot)"
   ]
  },
  {
   "cell_type": "code",
   "execution_count": 13,
   "metadata": {},
   "outputs": [],
   "source": [
    "def not_video_game(state: State) -> State:\n",
    "    return {\"messages\": [AIMessage(content= \"I'm sorry, I can't help you with that. Please Ask me querys regarding video games.\", \n",
    "                                   id=state[\"messages\"][-1].id)]}\n",
    "    \n",
    "\n",
    "\n",
    "graph_builder.add_node(\"not_video_game\", not_video_game)"
   ]
  },
  {
   "cell_type": "code",
   "execution_count": 14,
   "metadata": {},
   "outputs": [],
   "source": [
    "def should_continue(state) -> Literal[\"valid\", \"invalid\"]:\n",
    "    if state[\"is_video_game\"]:\n",
    "        print(\"---DECISION: GENERATE SOLUTION---\")\n",
    "        return \"valid\"\n",
    "        \n",
    "    else:\n",
    "        print(\"---DECISION: NOT VIDEO GAME---\")\n",
    "        return \"invalid\"\n",
    "        \n",
    "\n",
    "def route_tools(state: State) -> Literal[\"search\", \"end\"]:\n",
    "    ai_message = state[\"messages\"][-1]\n",
    "    if hasattr(ai_message, \"tool_calls\") and len(ai_message.tool_calls) > 0:\n",
    "        print(\"---DECISION: WEB SEARCH---\")\n",
    "        return \"search\"\n",
    "    \n",
    "    print(\"---DECISION: FINISH---\")\n",
    "    return \"end\""
   ]
  },
  {
   "cell_type": "code",
   "execution_count": 15,
   "metadata": {},
   "outputs": [],
   "source": [
    "graph_builder.add_edge(START, \"topic_analysis\")\n",
    "graph_builder.add_conditional_edges(\n",
    "    \"topic_analysis\",\n",
    "    should_continue,\n",
    "    {\n",
    "        \"invalid\": \"not_video_game\",\n",
    "        \"valid\": \"chatbot\",\n",
    "    }\n",
    ")\n",
    "graph_builder.add_conditional_edges(\n",
    "    \"chatbot\",\n",
    "    route_tools,\n",
    "    {\n",
    "        \"search\": \"search\", \n",
    "        \"end\": END\n",
    "    },\n",
    ")\n",
    "graph_builder.add_edge(\"search\", \"chatbot\")\n",
    "graph_builder.add_edge(\"not_video_game\", END)\n",
    "# graph_builder.add_edge(\"chatbot\", END)"
   ]
  },
  {
   "cell_type": "code",
   "execution_count": 16,
   "metadata": {},
   "outputs": [],
   "source": [
    "graph = graph_builder.compile()"
   ]
  },
  {
   "cell_type": "code",
   "execution_count": 17,
   "metadata": {},
   "outputs": [
    {
     "data": {
      "image/jpeg": "[encoded data removed]",
      "text/plain": [
       "<IPython.core.display.Image object>"
      ]
     },
     "metadata": {},
     "output_type": "display_data"
    }
   ],
   "source": [
    "from IPython.display import Image, display\n",
    "\n",
    "try:\n",
    "    display(Image(graph.get_graph().draw_mermaid_png()))\n",
    "except Exception:\n",
    "    # This requires some extra dependencies and is optional\n",
    "    pass"
   ]
  },
  {
   "cell_type": "code",
   "execution_count": 104,
   "metadata": {},
   "outputs": [
    {
     "name": "stdout",
     "output_type": "stream",
     "text": [
      "--TOPIC ANALYSIS--\n",
      "val=True\n",
      "---DECISION: GENERATE SOLUTION---\n",
      "Human: which pc games wre released in may 2024?\n",
      "---DECISION: WEB SEARCH---\n",
      "Assistant: \n",
      "--TOOL CALLED: tavily_search_results_json --\n",
      "---DECISION: FINISH---\n",
      "Assistant: I can't give you a specific list of PC games released in May 2024. My information is not up-to-date enough to provide that kind of information. You can find more details about game releases on websites like PC Gamer or Screenrant. \n",
      "\n",
      "Goodbye!\n"
     ]
    }
   ],
   "source": [
    "while True:\n",
    "    user_input = input(\"User: \")\n",
    "    if user_input.lower() in [\"quit\", \"exit\", \"q\"]:\n",
    "        print(\"Goodbye!\")\n",
    "        break\n",
    "    for event in graph.stream({\"messages\": (\"user\", user_input)}):\n",
    "        for value in event.values():\n",
    "            if isinstance(value[\"messages\"][-1], AIMessage):\n",
    "                print(\"Assistant:\", value[\"messages\"][-1].content)\n",
    "            elif isinstance(value[\"messages\"][-1], HumanMessage):\n",
    "                print(\"Human:\", value[\"messages\"][-1].content)"
   ]
  },
  {
   "cell_type": "code",
   "execution_count": 112,
   "metadata": {},
   "outputs": [
    {
     "name": "stdout",
     "output_type": "stream",
     "text": [
      "--TOPIC ANALYSIS--\n",
      "val=False\n",
      "---DECISION: NOT VIDEO GAME---\n",
      "I'm sorry, I can't help you with that. Please Ask me querys regarding video games.\n"
     ]
    }
   ],
   "source": [
    "print(graph.invoke({\"messages\": (\"user\", \"which model are you ?\")})['messages'][-1].content)"
   ]
  }
 ],
 "metadata": {
  "kernelspec": {
   "display_name": "Python 3",
   "language": "python",
   "name": "python3"
  },
  "language_info": {
   "codemirror_mode": {
    "name": "ipython",
    "version": 3
   },
   "file_extension": ".py",
   "mimetype": "text/x-python",
   "name": "python",
   "nbconvert_exporter": "python",
   "pygments_lexer": "ipython3",
   "version": "3.12.3"
  }
 },
 "nbformat": 4,
 "nbformat_minor": 2
}
